{
 "cells": [
  {
   "cell_type": "code",
   "execution_count": 12,
   "metadata": {
    "id": "7Ob5-XHAoSGY"
   },
   "outputs": [],
   "source": [
    "import pandas as pd\n",
    "import numpy as np\n",
    "from sklearn.model_selection import train_test_split\n",
    "from sklearn.svm import SVC \n",
    "from sklearn.metrics import accuracy_score \n",
    "from sklearn.metrics import classification_report\n",
    "from sklearn.metrics import confusion_matrix\n",
    "import sklearn.metrics as metrics\n",
    "from sklearn.model_selection import GridSearchCV"
   ]
  },
  {
   "cell_type": "code",
   "execution_count": 2,
   "metadata": {
    "id": "XeWYnx65oHu8"
   },
   "outputs": [],
   "source": [
    "data = pd.read_csv(\"fetal_health.csv\")"
   ]
  },
  {
   "cell_type": "code",
   "execution_count": 3,
   "metadata": {
    "id": "sJ3hQhr1oPxC"
   },
   "outputs": [],
   "source": [
    "X = data[['baseline value', 'accelerations', 'fetal_movement',\n",
    "       'uterine_contractions', 'light_decelerations', 'severe_decelerations',\n",
    "       'prolongued_decelerations', 'abnormal_short_term_variability',\n",
    "       'percentage_of_time_with_abnormal_long_term_variability',\n",
    "       'histogram_number_of_zeroes', 'histogram_median', 'histogram_tendency']]\n",
    "y = data[\"fetal_health\"]"
   ]
  },
  {
   "cell_type": "code",
   "execution_count": 4,
   "metadata": {
    "id": "Yjuo_cslpFWD"
   },
   "outputs": [],
   "source": [
    "X_train, X_test, y_train, y_test = train_test_split(X, y, test_size = 0.35)"
   ]
  },
  {
   "cell_type": "markdown",
   "metadata": {
    "id": "fwzyiWc3rFzV"
   },
   "source": [
    "**LINEAR SVM KERNEL**"
   ]
  },
  {
   "cell_type": "code",
   "execution_count": 5,
   "metadata": {
    "colab": {
     "base_uri": "https://localhost:8080/"
    },
    "id": "rNmLqTtlqRlq",
    "outputId": "9de06333-2c01-406e-eb14-8a015e1932e1"
   },
   "outputs": [
    {
     "name": "stdout",
     "output_type": "stream",
     "text": [
      "accuracy : 0.8630872483221477\n",
      "              precision    recall  f1-score   support\n",
      "\n",
      "         1.0       0.89      0.96      0.93       582\n",
      "         2.0       0.63      0.41      0.50       102\n",
      "         3.0       0.80      0.70      0.75        61\n",
      "\n",
      "    accuracy                           0.86       745\n",
      "   macro avg       0.77      0.69      0.72       745\n",
      "weighted avg       0.85      0.86      0.85       745\n",
      "\n"
     ]
    }
   ],
   "source": [
    "svclassifier = SVC(kernel='linear')\n",
    "svclassifier.fit(X_train, y_train)\n",
    "y_pred = svclassifier.predict(X_test)\n",
    "print(\"accuracy :\",metrics.accuracy_score(y_test,y_pred))\n",
    "linear_class = print(classification_report(y_test,y_pred))"
   ]
  },
  {
   "cell_type": "markdown",
   "metadata": {
    "id": "3jaiwShBrez3"
   },
   "source": [
    "***POLY SVM KERNEL***"
   ]
  },
  {
   "cell_type": "code",
   "execution_count": 6,
   "metadata": {
    "colab": {
     "base_uri": "https://localhost:8080/"
    },
    "id": "3ggYgfnLq-bf",
    "outputId": "e22a895e-527d-47d7-f05b-e541889372b7"
   },
   "outputs": [
    {
     "data": {
      "text/plain": [
       "SVC(C=1.0, break_ties=False, cache_size=200, class_weight=None, coef0=0.0,\n",
       "    decision_function_shape='ovr', degree=8, gamma='scale', kernel='poly',\n",
       "    max_iter=-1, probability=False, random_state=None, shrinking=True,\n",
       "    tol=0.001, verbose=False)"
      ]
     },
     "execution_count": 6,
     "metadata": {
      "tags": []
     },
     "output_type": "execute_result"
    }
   ],
   "source": [
    "svclassifier = SVC(kernel='poly', degree=8)\n",
    "X_train, X_test, y_train, y_test = train_test_split(X, y, test_size = 0.35)\n",
    "svclassifier.fit(X_train, y_train)"
   ]
  },
  {
   "cell_type": "code",
   "execution_count": 7,
   "metadata": {
    "colab": {
     "base_uri": "https://localhost:8080/"
    },
    "id": "5QyEmiisreIL",
    "outputId": "baaae151-b2ea-4a2a-c95d-e444fed0081f"
   },
   "outputs": [
    {
     "name": "stdout",
     "output_type": "stream",
     "text": [
      "accuracy : 0.8630872483221477\n",
      "              precision    recall  f1-score   support\n",
      "\n",
      "         1.0       0.89      0.96      0.92       571\n",
      "         2.0       0.70      0.48      0.57       109\n",
      "         3.0       0.82      0.65      0.72        65\n",
      "\n",
      "    accuracy                           0.86       745\n",
      "   macro avg       0.80      0.69      0.74       745\n",
      "weighted avg       0.85      0.86      0.85       745\n",
      "\n"
     ]
    }
   ],
   "source": [
    "y_pred = svclassifier.predict(X_test)\n",
    "print(\"accuracy :\",metrics.accuracy_score(y_test,y_pred))\n",
    "poly_class = print(classification_report(y_test,y_pred))"
   ]
  },
  {
   "cell_type": "markdown",
   "metadata": {
    "id": "kHHV9ZifsMZr"
   },
   "source": [
    "**RBF KERNEL**\n"
   ]
  },
  {
   "cell_type": "code",
   "execution_count": 8,
   "metadata": {
    "colab": {
     "base_uri": "https://localhost:8080/"
    },
    "id": "eVrzNmSCsLjk",
    "outputId": "f04819b9-24be-4a10-f277-e3ca1147bdd9"
   },
   "outputs": [
    {
     "name": "stdout",
     "output_type": "stream",
     "text": [
      "accuracy : 0.8356807511737089\n",
      "              precision    recall  f1-score   support\n",
      "\n",
      "         1.0       0.87      0.96      0.91       331\n",
      "         2.0       0.48      0.40      0.43        50\n",
      "         3.0       1.00      0.38      0.55        45\n",
      "\n",
      "    accuracy                           0.84       426\n",
      "   macro avg       0.78      0.58      0.63       426\n",
      "weighted avg       0.84      0.84      0.82       426\n",
      "\n"
     ]
    }
   ],
   "source": [
    "svclassifier = SVC(kernel='rbf')\n",
    "X_train, X_test, y_train, y_test = train_test_split(X, y, test_size = 0.20)\n",
    "svclassifier.fit(X_train, y_train)\n",
    "y_pred = svclassifier.predict(X_test)\n",
    "print(\"accuracy :\",metrics.accuracy_score(y_test,y_pred))\n",
    "rbf_class = print(classification_report(y_test,y_pred))"
   ]
  },
  {
   "cell_type": "markdown",
   "metadata": {
    "id": "tTPqV6vYspKd"
   },
   "source": [
    "**SIGMOID KERNEL**"
   ]
  },
  {
   "cell_type": "code",
   "execution_count": 11,
   "metadata": {
    "colab": {
     "base_uri": "https://localhost:8080/"
    },
    "id": "BvtcO5a_sm61",
    "outputId": "471fc0fa-739e-493a-89b8-68d9b0bc2dcf"
   },
   "outputs": [
    {
     "name": "stdout",
     "output_type": "stream",
     "text": [
      "accuracy : 0.7523510971786834\n",
      "              precision    recall  f1-score   support\n",
      "\n",
      "         1.0       0.79      0.96      0.87       494\n",
      "         2.0       0.11      0.04      0.06        89\n",
      "         3.0       0.00      0.00      0.00        55\n",
      "\n",
      "    accuracy                           0.75       638\n",
      "   macro avg       0.30      0.34      0.31       638\n",
      "weighted avg       0.63      0.75      0.68       638\n",
      "\n"
     ]
    },
    {
     "name": "stderr",
     "output_type": "stream",
     "text": [
      "/usr/local/lib/python3.7/dist-packages/sklearn/metrics/_classification.py:1272: UndefinedMetricWarning: Precision and F-score are ill-defined and being set to 0.0 in labels with no predicted samples. Use `zero_division` parameter to control this behavior.\n",
      "  _warn_prf(average, modifier, msg_start, len(result))\n"
     ]
    }
   ],
   "source": [
    "svclassifier = SVC(kernel='sigmoid')\n",
    "X_train, X_test, y_train, y_test = train_test_split(X, y, test_size = 0.30)\n",
    "svclassifier.fit(X_train, y_train)\n",
    "y_pred = svclassifier.predict(X_test)\n",
    "print(\"accuracy :\",metrics.accuracy_score(y_test,y_pred))\n",
    "sigmoid_class = print(classification_report(y_test,y_pred))"
   ]
  },
  {
   "cell_type": "markdown",
   "metadata": {
    "id": "gqHjKSfTwl7o"
   },
   "source": [
    "***HYPER PARAMETER OPTIMIZATION WITH GRIDSEARCH CV***"
   ]
  },
  {
   "cell_type": "code",
   "execution_count": null,
   "metadata": {
    "id": "M5b57yMBuRlJ"
   },
   "outputs": [],
   "source": [
    "X_train, X_test, y_train, y_test = train_test_split(X, y, test_size = 0.20)\n",
    "param_grid = {'C': [0.1,1, 10, 100,1000], 'gamma': [1,0.1,0.01,0.001],'kernel': ['rbf', 'sigmoid']}\n",
    "grid = GridSearchCV(SVC(),param_grid,refit=True,verbose=2)\n",
    "grid.fit(X_train,y_train)"
   ]
  },
  {
   "cell_type": "code",
   "execution_count": 22,
   "metadata": {
    "colab": {
     "base_uri": "https://localhost:8080/"
    },
    "id": "5TQ7X0dyvP0i",
    "outputId": "3dbd6929-5f9a-497b-8e6f-29f209e76f4b"
   },
   "outputs": [
    {
     "name": "stdout",
     "output_type": "stream",
     "text": [
      "SVC(C=10, break_ties=False, cache_size=200, class_weight=None, coef0=0.0,\n",
      "    decision_function_shape='ovr', degree=3, gamma=0.01, kernel='rbf',\n",
      "    max_iter=-1, probability=False, random_state=None, shrinking=True,\n",
      "    tol=0.001, verbose=False)\n"
     ]
    }
   ],
   "source": [
    "print(grid.best_estimator_)"
   ]
  },
  {
   "cell_type": "code",
   "execution_count": 23,
   "metadata": {
    "colab": {
     "base_uri": "https://localhost:8080/"
    },
    "id": "4lCoBeYEvxRw",
    "outputId": "38e46749-a31e-4fc0-b5e8-46defcf7a704"
   },
   "outputs": [
    {
     "name": "stdout",
     "output_type": "stream",
     "text": [
      "              precision    recall  f1-score   support\n",
      "\n",
      "         1.0       0.93      0.97      0.95       324\n",
      "         2.0       0.76      0.62      0.68        60\n",
      "         3.0       0.97      0.93      0.95        42\n",
      "\n",
      "    accuracy                           0.91       426\n",
      "   macro avg       0.89      0.84      0.86       426\n",
      "weighted avg       0.91      0.91      0.91       426\n",
      "\n",
      "Accuracy : 0.9131455399061033\n"
     ]
    }
   ],
   "source": [
    "grid_predictions = grid.predict(X_test)\n",
    "print(classification_report(y_test,grid_predictions))\n",
    "print(\"Accuracy :\",metrics.accuracy_score(y_test,grid_predictions))"
   ]
  },
  {
   "cell_type": "code",
   "execution_count": null,
   "metadata": {
    "id": "wxBVH-TRyD_A"
   },
   "outputs": [],
   "source": []
  }
 ],
 "metadata": {
  "colab": {
   "name": "SVM IMPLEMENTATION ML_ASSIGNMENT.ipynb",
   "provenance": []
  },
  "kernelspec": {
   "display_name": "Python 3",
   "language": "python",
   "name": "python3"
  },
  "language_info": {
   "codemirror_mode": {
    "name": "ipython",
    "version": 3
   },
   "file_extension": ".py",
   "mimetype": "text/x-python",
   "name": "python",
   "nbconvert_exporter": "python",
   "pygments_lexer": "ipython3",
   "version": "3.8.8"
  }
 },
 "nbformat": 4,
 "nbformat_minor": 1
}
